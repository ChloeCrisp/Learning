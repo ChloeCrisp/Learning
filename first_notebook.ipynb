{
 "cells": [
  {
   "cell_type": "code",
   "execution_count": 3,
   "metadata": {},
   "outputs": [
    {
     "name": "stdout",
     "output_type": "stream",
     "text": [
      "✔ NumPy Version: 2.1.3\n",
      "NumPy Dot Product: 32\n",
      "\n",
      "✔ Pandas DataFrame:\n",
      "    A  B\n",
      "0  1  4\n",
      "1  2  5\n",
      "2  3  6\n"
     ]
    },
    {
     "data": {
      "image/png": "[encoded data removed]",
      "text/plain": [
       "<Figure size 500x300 with 1 Axes>"
      ]
     },
     "metadata": {},
     "output_type": "display_data"
    },
    {
     "name": "stdout",
     "output_type": "stream",
     "text": [
      "\n",
      "✔ Scikit-Learn Linear Regression Prediction for 5: 10.0\n",
      "\n",
      "✔ TensorFlow Tensor:\n",
      " tf.Tensor(\n",
      "[[1 2]\n",
      " [3 4]], shape=(2, 2), dtype=int32)\n"
     ]
    }
   ],
   "source": [
    "import numpy as np\n",
    "import pandas as pd\n",
    "import matplotlib.pyplot as plt\n",
    "import seaborn as sns\n",
    "from sklearn.linear_model import LinearRegression\n",
    "import tensorflow as tf\n",
    "\n",
    "# 1️⃣ Test NumPy (Basic Array Operations)\n",
    "print(\"✔ NumPy Version:\", np.__version__)\n",
    "a = np.array([1, 2, 3])\n",
    "b = np.array([4, 5, 6])\n",
    "print(\"NumPy Dot Product:\", np.dot(a, b))\n",
    "\n",
    "# 2️⃣ Test Pandas (Create a DataFrame)\n",
    "df = pd.DataFrame({\"A\": [1, 2, 3], \"B\": [4, 5, 6]})\n",
    "print(\"\\n✔ Pandas DataFrame:\\n\", df)\n",
    "\n",
    "# 3️⃣ Test Matplotlib & Seaborn (Basic Plot)\n",
    "plt.figure(figsize=(5, 3))\n",
    "sns.barplot(x=[\"A\", \"B\", \"C\"], y=[1, 4, 3])\n",
    "plt.title(\"✔ Seaborn & Matplotlib Test\")\n",
    "plt.show()\n",
    "\n",
    "# 4️⃣ Test Scikit-Learn (Linear Regression)\n",
    "X = np.array([[1], [2], [3], [4]])\n",
    "y = np.array([2, 4, 6, 8])\n",
    "model = LinearRegression().fit(X, y)\n",
    "print(\"\\n✔ Scikit-Learn Linear Regression Prediction for 5:\", model.predict([[5]])[0])\n",
    "\n",
    "# 5️⃣ Test TensorFlow (Basic Tensor)\n",
    "tensor = tf.constant([[1, 2], [3, 4]])\n",
    "print(\"\\n✔ TensorFlow Tensor:\\n\", tensor)\n"
   ]
  }
 ],
 "metadata": {
  "kernelspec": {
   "display_name": ".venv",
   "language": "python",
   "name": "python3"
  },
  "language_info": {
   "codemirror_mode": {
    "name": "ipython",
    "version": 3
   },
   "file_extension": ".py",
   "mimetype": "text/x-python",
   "name": "python",
   "nbconvert_exporter": "python",
   "pygments_lexer": "ipython3",
   "version": "3.11.9"
  }
 },
 "nbformat": 4,
 "nbformat_minor": 2
}
